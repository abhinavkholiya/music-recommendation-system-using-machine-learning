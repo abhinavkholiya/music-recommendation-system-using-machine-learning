{
 "cells": [
  {
   "cell_type": "code",
   "execution_count": 1,
   "id": "195a55e3-cb42-4cb6-8cfa-d1972b1ac3f8",
   "metadata": {},
   "outputs": [
    {
     "ename": "ModuleNotFoundError",
     "evalue": "No module named 'numpy'",
     "output_type": "error",
     "traceback": [
      "\u001b[1;31m---------------------------------------------------------------------------\u001b[0m",
      "\u001b[1;31mModuleNotFoundError\u001b[0m                       Traceback (most recent call last)",
      "Cell \u001b[1;32mIn[1], line 2\u001b[0m\n\u001b[0;32m      1\u001b[0m \u001b[38;5;66;03m# Importing modules\u001b[39;00m\n\u001b[1;32m----> 2\u001b[0m \u001b[38;5;28;01mimport\u001b[39;00m\u001b[38;5;250m \u001b[39m\u001b[38;5;21;01mnumpy\u001b[39;00m\u001b[38;5;250m \u001b[39m\u001b[38;5;28;01mas\u001b[39;00m\u001b[38;5;250m \u001b[39m\u001b[38;5;21;01mnp\u001b[39;00m\n\u001b[0;32m      3\u001b[0m \u001b[38;5;28;01mimport\u001b[39;00m\u001b[38;5;250m \u001b[39m\u001b[38;5;21;01mstreamlit\u001b[39;00m\u001b[38;5;250m \u001b[39m\u001b[38;5;28;01mas\u001b[39;00m\u001b[38;5;250m \u001b[39m\u001b[38;5;21;01mst\u001b[39;00m\n\u001b[0;32m      4\u001b[0m \u001b[38;5;28;01mimport\u001b[39;00m\u001b[38;5;250m \u001b[39m\u001b[38;5;21;01mcv2\u001b[39;00m\n",
      "\u001b[1;31mModuleNotFoundError\u001b[0m: No module named 'numpy'"
     ]
    }
   ],
   "source": [
    "# Importing modules\n",
    "import numpy as np\n",
    "import streamlit as st\n",
    "import cv2\n",
    "import pandas as pd\n",
    "from collections import Counter\n",
    "from tensorflow.keras.models import Sequential\n",
    "from tensorflow.keras.layers import Dense, Dropout, Flatten, Conv2D, MaxPooling2D\n",
    "import base64\n"
   ]
  },
  {
   "cell_type": "code",
   "execution_count": null,
   "id": "8f1d8508-770b-43e8-a550-f564e93a276d",
   "metadata": {},
   "outputs": [],
   "source": [
    "# Load dataset\n",
    "df = pd.read_csv(r\"C:\\Users\\Yash Singh\\Downloads\\Emotion-based-music-recommendation-system-main\\Emotion-based-music-recommendation-system-main\\muse_v3.csv\")\n",
    "df['link'] = df['lastfm_url']\n",
    "df['name'] = df['track']\n",
    "df['emotional'] = df['number_of_emotion_tags']\n",
    "df['pleasant'] = df['valence_tags']\n",
    "df = df[['name', 'emotional', 'pleasant', 'link', 'artist']]\n",
    "df = df.sort_values(by=[\"emotional\", \"pleasant\"]).reset_index(drop=True)\n"
   ]
  },
  {
   "cell_type": "code",
   "execution_count": null,
   "id": "1e535309-6c17-460a-a54d-83dc06cccb81",
   "metadata": {},
   "outputs": [],
   "source": [
    "# Define emotion subsets\n",
    "df_sad = df[:18000]\n",
    "df_fear = df[18000:36000]\n",
    "df_angry = df[36000:54000]\n",
    "df_neutral = df[54000:72000]\n",
    "df_happy = df[72000:]"
   ]
  },
  {
   "cell_type": "code",
   "execution_count": null,
   "id": "8e63094b-10d0-4e89-aca5-a6a40ae655b1",
   "metadata": {},
   "outputs": [],
   "source": [
    "# Recommendation function\n",
    "def fun(emotions_list):\n",
    "    data = pd.DataFrame()\n",
    "    if len(emotions_list) == 1:\n",
    "        v = emotions_list[0]\n",
    "        t = 30\n",
    "        if v == 'Neutral':\n",
    "            data = pd.concat([data, df_neutral.sample(n=t)], ignore_index=True)\n",
    "        elif v == 'Angry':\n",
    "            data = pd.concat([data, df_angry.sample(n=t)], ignore_index=True)\n",
    "        elif v == 'fear':\n",
    "            data = pd.concat([data, df_fear.sample(n=t)], ignore_index=True)\n",
    "        elif v == 'happy':\n",
    "            data = pd.concat([data, df_happy.sample(n=t)], ignore_index=True)\n",
    "        else:\n",
    "            data = pd.concat([data, df_sad.sample(n=t)], ignore_index=True)\n",
    "    # Additional emotion logic continues as needed...\n",
    "\n",
    "    return data\n",
    "\n",
    "def pre(emotion_list):\n",
    "    result = []\n",
    "    emotion_counts = Counter(emotion_list)\n",
    "    for emotion, count in emotion_counts.items():\n",
    "        result.extend([emotion] * count)\n",
    "    unique_emotions = list(dict.fromkeys(result))  # Preserve order\n",
    "    return unique_emotions"
   ]
  },
  {
   "cell_type": "code",
   "execution_count": null,
   "id": "49130ba9-21c4-4e1b-9c6b-1a4c18421f50",
   "metadata": {},
   "outputs": [],
   "source": [
    "# Model setup\n",
    "model = Sequential([\n",
    "    Conv2D(32, kernel_size=(3, 3), activation='relu', input_shape=(48,48,1)),\n",
    "    Conv2D(64, kernel_size=(3, 3), activation='relu'),\n",
    "    MaxPooling2D(pool_size=(2, 2)),\n",
    "    Conv2D(128, kernel_size=(3, 3), activation='relu'),\n",
    "    MaxPooling2D(pool_size=(2, 2)),\n",
    "    Conv2D(128, kernel_size=(3, 3), activation='relu'),\n",
    "    MaxPooling2D(pool_size=(2, 2)),\n",
    "    Dropout(0.25),\n",
    "    Flatten(),\n",
    "    Dense(1024, activation='relu'),\n",
    "    Dropout(0.5),\n",
    "    Dense(7, activation='softmax')\n",
    "])\n",
    "\n",
    "model.load_weights(r'C:\\Users\\Yash Singh\\Downloads\\Emotion-based-music-recommendation-system-main\\Emotion-based-music-recommendation-system-main\\model.h5')\n",
    "emotion_dict = {0: \"Angry\", 1: \"Disgusted\", 2: \"Fearful\", 3: \"Happy\", 4: \"Neutral\", 5: \"Sad\", 6: \"Surprised\"}\n",
    "\n",
    "# Streamlit UI setup\n",
    "page_bg_img = '''\n",
    "<style>\n",
    "body {\n",
    "    background-image: url(\"https://images.unsplash.com/photo-1542281286-9e0a16bb7366\");\n",
    "    background-size: cover;\n",
    "}\n",
    "</style>\n",
    "'''\n",
    "st.markdown(page_bg_img, unsafe_allow_html=True)\n",
    "st.markdown(\"<h2 style='text-align: center; color: white'><b>Emotion based music recommendation</b></h2>\", unsafe_allow_html=True)\n",
    "st.markdown(\"<h5 style='text-align: center; color: grey;'><b>Click on the name of recommended song to reach website</b></h5>\", unsafe_allow_html=True)\n",
    "\n"
   ]
  },
  {
   "cell_type": "code",
   "execution_count": null,
   "id": "24af2a86-de18-4998-afb9-85c9c9c2d30c",
   "metadata": {},
   "outputs": [],
   "source": [
    "# Camera setup\n",
    "cap = cv2.VideoCapture(0)\n",
    "\n",
    "emotion_list = []\n",
    "if st.button('SCAN EMOTION (Click here)'):\n",
    "    count = 0\n",
    "    emotion_list.clear()\n",
    "\n",
    "    while True:\n",
    "        ret, frame = cap.read()\n",
    "        if not ret:\n",
    "            break\n",
    "        \n",
    "        gray = cv2.cvtColor(frame, cv2.COLOR_BGR2GRAY)\n",
    "        faces = cv2.CascadeClassifier(cv2.data.haarcascades + \"haarcascade_frontalface_default.xml\").detectMultiScale(\n",
    "            gray, scaleFactor=1.3, minNeighbors=5)\n",
    "        count += 1\n",
    "\n",
    "        for (x, y, w, h) in faces:\n",
    "            cv2.rectangle(frame, (x, y - 50), (x + w, y + h + 10), (255, 0, 0), 2)\n",
    "            roi_gray = gray[y:y + h, x:x + w]\n",
    "            cropped_img = np.expand_dims(np.expand_dims(cv2.resize(roi_gray, (48, 48)), -1), 0)\n",
    "            prediction = model.predict(cropped_img)\n",
    "            max_index = int(np.argmax(prediction))\n",
    "            emotion_list.append(emotion_dict[max_index])\n",
    "\n",
    "            cv2.putText(frame, emotion_dict[max_index], (x + 20, y - 60), \n",
    "                        cv2.FONT_HERSHEY_SIMPLEX, 1, (255, 255, 255), 2, cv2.LINE_AA)\n",
    "\n",
    "        st.image(frame, channels=\"BGR\", caption=\"Emotion Detection in Progress\")\n",
    "        if count >= 20:\n",
    "            break\n",
    "    \n",
    "    cap.release()\n",
    "    emotion_list = pre(emotion_list)\n",
    "    st.success(\"Emotions successfully detected\")\n",
    "\n",
    "new_df = fun(emotion_list)\n",
    "st.write(\"\")\n",
    "st.markdown(\"<h5 style='text-align: center; color: grey;'><b>Recommended song's with artist names</b></h5>\", unsafe_allow_html=True)\n",
    "st.write(\"---------------------------------------------------------------------------------------------------------------------\")"
   ]
  },
  {
   "cell_type": "code",
   "execution_count": null,
   "id": "8fb35144-1b66-4f82-9c63-d9fbbce99ef3",
   "metadata": {},
   "outputs": [],
   "source": [
    "# Display song recommendations\n",
    "try:\n",
    "    if new_df.empty:\n",
    "        st.warning(\"No song recommendations available based on detected emotions.\")\n",
    "    else:\n",
    "        for l, a, n, i in zip(new_df[\"link\"], new_df['artist'], new_df['name'], range(30)):\n",
    "            st.markdown(f\"\"\"<h4 style='text-align: center;'><a href=\"{l}\">{i+1}. {n}</a></h4>\"\"\", unsafe_allow_html=True)\n",
    "            st.markdown(f\"<h5 style='text-align: center; color: grey;'><i>{a}</i></h5>\", unsafe_allow_html=True)\n",
    "            st.write(\"---------------------------------------------------------------------------------------------------------------------\")\n",
    "except Exception as e:\n",
    "    st.error(f\"Error in displaying recommendations: {str(e)}\")"
   ]
  }
 ],
 "metadata": {
  "kernelspec": {
   "display_name": "Python 3 (ipykernel)",
   "language": "python",
   "name": "python3"
  },
  "language_info": {
   "codemirror_mode": {
    "name": "ipython",
    "version": 3
   },
   "file_extension": ".py",
   "mimetype": "text/x-python",
   "name": "python",
   "nbconvert_exporter": "python",
   "pygments_lexer": "ipython3",
   "version": "3.13.2"
  }
 },
 "nbformat": 4,
 "nbformat_minor": 5
}
